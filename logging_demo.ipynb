{
 "cells": [
  {
   "cell_type": "code",
   "execution_count": 1,
   "metadata": {},
   "outputs": [],
   "source": [
    "from lklearn.Logger import Logger\n",
    "import datetime\n",
    "import os\n"
   ]
  },
  {
   "cell_type": "markdown",
   "metadata": {},
   "source": [
    "### Define: \n",
    "1. json_path: the file path where the model records are or will be stored\n",
    "2. model_info: dictionary of model metadata\n",
    "    - date_created\n",
    "    - model_path: path to saved model definition and weights\n",
    "    - present_dir: present working directory\n",
    "    - reason: reason for creating the model\n",
    "    - architecture: summary of architecture type\n",
    "    - input_shape\n",
    "    - input_info: dictionary of extra info about the model input\n",
    "    - output_info: dictionary of model output classes\n",
    "    - training_info: details about training\n",
    "    - history: model training history object\n",
    "    - version: model version if applicable\n",
    "    - source_model_index: if this is an updated version of a previous model, specify the original model's ID"
   ]
  },
  {
   "cell_type": "code",
   "execution_count": 2,
   "metadata": {},
   "outputs": [],
   "source": [
    "json_path = './demo_log.json'\n",
    "if os.path.exists(json_path):\n",
    "    os.remove(json_path)\n",
    "    \n",
    "model_info = {'date_created': datetime.datetime.now().strftime(\"%m/%d/%Y %H:%M:%S\"),\n",
    "              'model_path':'./ResNet50/',\n",
    "              'present_dir': os.getcwd(),\n",
    "              'reason':'To test ResNet50',\n",
    "              'architecture': 'ResNet50',\n",
    "              'input_shape': (224,224,3),\n",
    "              'input_info': {'nfft': 2048, 'nmels': 128, 'nperseg': 512, 'noverlap': 384},\n",
    "              'output_info': {0:'chainsaw', 1:'environment'},\n",
    "              'training_info': {'lr':'0.001', 'optimizer':'adam', 'batch_size':16},\n",
    "              'history': {'loss':[5,4,3,2,1],'val_loss':[5,4,3,2,1]},\n",
    "              'version':1.0}\n"
   ]
  },
  {
   "cell_type": "markdown",
   "metadata": {},
   "source": [
    "### Create the logger"
   ]
  },
  {
   "cell_type": "code",
   "execution_count": 3,
   "metadata": {},
   "outputs": [],
   "source": [
    "logger = Logger(json_path, model_info)"
   ]
  },
  {
   "cell_type": "code",
   "execution_count": 4,
   "metadata": {},
   "outputs": [
    {
     "data": {
      "text/html": [
       "<div>\n",
       "<style scoped>\n",
       "    .dataframe tbody tr th:only-of-type {\n",
       "        vertical-align: middle;\n",
       "    }\n",
       "\n",
       "    .dataframe tbody tr th {\n",
       "        vertical-align: top;\n",
       "    }\n",
       "\n",
       "    .dataframe thead th {\n",
       "        text-align: right;\n",
       "    }\n",
       "</style>\n",
       "<table border=\"1\" class=\"dataframe\">\n",
       "  <thead>\n",
       "    <tr style=\"text-align: right;\">\n",
       "      <th></th>\n",
       "      <th>date_created</th>\n",
       "      <th>model_path</th>\n",
       "      <th>present_dir</th>\n",
       "      <th>reason</th>\n",
       "      <th>architecture</th>\n",
       "      <th>input_shape</th>\n",
       "      <th>input_info</th>\n",
       "      <th>output_info</th>\n",
       "      <th>training_info</th>\n",
       "      <th>history</th>\n",
       "      <th>version</th>\n",
       "    </tr>\n",
       "  </thead>\n",
       "  <tbody>\n",
       "    <tr>\n",
       "      <th>NaN</th>\n",
       "      <td>05/31/2020 19:06:41</td>\n",
       "      <td>./ResNet50/</td>\n",
       "      <td>/home/ubuntu/logkit-learn</td>\n",
       "      <td>To test ResNet50</td>\n",
       "      <td>ResNet50</td>\n",
       "      <td>(224, 224, 3)</td>\n",
       "      <td>{'nfft': 2048, 'nmels': 128, 'nperseg': 512, '...</td>\n",
       "      <td>{0: 'chainsaw', 1: 'environment'}</td>\n",
       "      <td>{'lr': '0.001', 'optimizer': 'adam', 'batch_si...</td>\n",
       "      <td>{'loss': [5, 4, 3, 2, 1], 'val_loss': [5, 4, 3...</td>\n",
       "      <td>1</td>\n",
       "    </tr>\n",
       "  </tbody>\n",
       "</table>\n",
       "</div>"
      ],
      "text/plain": [
       "            date_created   model_path                present_dir  \\\n",
       "NaN  05/31/2020 19:06:41  ./ResNet50/  /home/ubuntu/logkit-learn   \n",
       "\n",
       "               reason architecture    input_shape  \\\n",
       "NaN  To test ResNet50     ResNet50  (224, 224, 3)   \n",
       "\n",
       "                                            input_info  \\\n",
       "NaN  {'nfft': 2048, 'nmels': 128, 'nperseg': 512, '...   \n",
       "\n",
       "                           output_info  \\\n",
       "NaN  {0: 'chainsaw', 1: 'environment'}   \n",
       "\n",
       "                                         training_info  \\\n",
       "NaN  {'lr': '0.001', 'optimizer': 'adam', 'batch_si...   \n",
       "\n",
       "                                               history version  \n",
       "NaN  {'loss': [5, 4, 3, 2, 1], 'val_loss': [5, 4, 3...       1  "
      ]
     },
     "execution_count": 4,
     "metadata": {},
     "output_type": "execute_result"
    }
   ],
   "source": [
    "logger.model"
   ]
  },
  {
   "cell_type": "code",
   "execution_count": 5,
   "metadata": {},
   "outputs": [
    {
     "data": {
      "text/plain": [
       "'No json file loaded'"
      ]
     },
     "execution_count": 5,
     "metadata": {},
     "output_type": "execute_result"
    }
   ],
   "source": [
    "logger.db"
   ]
  },
  {
   "cell_type": "code",
   "execution_count": 6,
   "metadata": {},
   "outputs": [
    {
     "name": "stdout",
     "output_type": "stream",
     "text": [
      "Creating json\n",
      "Reading json\n"
     ]
    }
   ],
   "source": [
    "logger.create_json()"
   ]
  },
  {
   "cell_type": "markdown",
   "metadata": {},
   "source": [
    "#### Now the current model is in .db"
   ]
  },
  {
   "cell_type": "code",
   "execution_count": 7,
   "metadata": {},
   "outputs": [
    {
     "data": {
      "text/html": [
       "<div>\n",
       "<style scoped>\n",
       "    .dataframe tbody tr th:only-of-type {\n",
       "        vertical-align: middle;\n",
       "    }\n",
       "\n",
       "    .dataframe tbody tr th {\n",
       "        vertical-align: top;\n",
       "    }\n",
       "\n",
       "    .dataframe thead th {\n",
       "        text-align: right;\n",
       "    }\n",
       "</style>\n",
       "<table border=\"1\" class=\"dataframe\">\n",
       "  <thead>\n",
       "    <tr style=\"text-align: right;\">\n",
       "      <th></th>\n",
       "      <th>date_created</th>\n",
       "      <th>model_path</th>\n",
       "      <th>present_dir</th>\n",
       "      <th>reason</th>\n",
       "      <th>architecture</th>\n",
       "      <th>input_shape</th>\n",
       "      <th>input_info</th>\n",
       "      <th>output_info</th>\n",
       "      <th>training_info</th>\n",
       "      <th>history</th>\n",
       "      <th>version</th>\n",
       "    </tr>\n",
       "  </thead>\n",
       "  <tbody>\n",
       "    <tr>\n",
       "      <th>0</th>\n",
       "      <td>05/31/2020 19:06:41</td>\n",
       "      <td>./ResNet50/</td>\n",
       "      <td>/home/ubuntu/logkit-learn</td>\n",
       "      <td>To test ResNet50</td>\n",
       "      <td>ResNet50</td>\n",
       "      <td>[224, 224, 3]</td>\n",
       "      <td>{'nfft': 2048, 'nmels': 128, 'nperseg': 512, '...</td>\n",
       "      <td>{'0': 'chainsaw', '1': 'environment'}</td>\n",
       "      <td>{'lr': '0.001', 'optimizer': 'adam', 'batch_si...</td>\n",
       "      <td>{'loss': [5, 4, 3, 2, 1], 'val_loss': [5, 4, 3...</td>\n",
       "      <td>1</td>\n",
       "    </tr>\n",
       "  </tbody>\n",
       "</table>\n",
       "</div>"
      ],
      "text/plain": [
       "          date_created   model_path                present_dir  \\\n",
       "0  05/31/2020 19:06:41  ./ResNet50/  /home/ubuntu/logkit-learn   \n",
       "\n",
       "             reason architecture    input_shape  \\\n",
       "0  To test ResNet50     ResNet50  [224, 224, 3]   \n",
       "\n",
       "                                          input_info  \\\n",
       "0  {'nfft': 2048, 'nmels': 128, 'nperseg': 512, '...   \n",
       "\n",
       "                             output_info  \\\n",
       "0  {'0': 'chainsaw', '1': 'environment'}   \n",
       "\n",
       "                                       training_info  \\\n",
       "0  {'lr': '0.001', 'optimizer': 'adam', 'batch_si...   \n",
       "\n",
       "                                             history  version  \n",
       "0  {'loss': [5, 4, 3, 2, 1], 'val_loss': [5, 4, 3...        1  "
      ]
     },
     "execution_count": 7,
     "metadata": {},
     "output_type": "execute_result"
    }
   ],
   "source": [
    "logger.db"
   ]
  },
  {
   "cell_type": "markdown",
   "metadata": {},
   "source": [
    "### Define a new experiment"
   ]
  },
  {
   "cell_type": "code",
   "execution_count": 8,
   "metadata": {},
   "outputs": [],
   "source": [
    "# New model: columns out of order\n",
    "model_info = {'date_created': datetime.datetime.now().strftime(\"%m/%d/%Y %H:%M:%S\"),\n",
    "              'model_path':'./SVM/',\n",
    "              'present_dir': os.getcwd(),\n",
    "              'reason':'To test SVM',\n",
    "              'architecture': 'SVM',\n",
    "              'input_shape': (224,224,3),\n",
    "              'input_info': {'nfft': 2048, 'nmels': 128, 'nperseg': 512, 'noverlap': 384},\n",
    "              'output_info': {0:'chainsaw', 1:'environment'},\n",
    "              'training_info': {'lr':'0.0001', 'optimizer':'adam', 'batch_size':32},\n",
    "              'history': {'loss':[5,4,3,2,1],'val_loss':[5,4,3,2,1]},\n",
    "              'version':1.0}\n"
   ]
  },
  {
   "cell_type": "code",
   "execution_count": 9,
   "metadata": {},
   "outputs": [
    {
     "name": "stdout",
     "output_type": "stream",
     "text": [
      "Reading json\n"
     ]
    },
    {
     "data": {
      "text/html": [
       "<div>\n",
       "<style scoped>\n",
       "    .dataframe tbody tr th:only-of-type {\n",
       "        vertical-align: middle;\n",
       "    }\n",
       "\n",
       "    .dataframe tbody tr th {\n",
       "        vertical-align: top;\n",
       "    }\n",
       "\n",
       "    .dataframe thead th {\n",
       "        text-align: right;\n",
       "    }\n",
       "</style>\n",
       "<table border=\"1\" class=\"dataframe\">\n",
       "  <thead>\n",
       "    <tr style=\"text-align: right;\">\n",
       "      <th></th>\n",
       "      <th>date_created</th>\n",
       "      <th>model_path</th>\n",
       "      <th>present_dir</th>\n",
       "      <th>reason</th>\n",
       "      <th>architecture</th>\n",
       "      <th>input_shape</th>\n",
       "      <th>input_info</th>\n",
       "      <th>output_info</th>\n",
       "      <th>training_info</th>\n",
       "      <th>history</th>\n",
       "      <th>version</th>\n",
       "    </tr>\n",
       "  </thead>\n",
       "  <tbody>\n",
       "    <tr>\n",
       "      <th>0</th>\n",
       "      <td>05/31/2020 19:06:41</td>\n",
       "      <td>./ResNet50/</td>\n",
       "      <td>/home/ubuntu/logkit-learn</td>\n",
       "      <td>To test ResNet50</td>\n",
       "      <td>ResNet50</td>\n",
       "      <td>[224, 224, 3]</td>\n",
       "      <td>{'nfft': 2048, 'nmels': 128, 'nperseg': 512, '...</td>\n",
       "      <td>{'0': 'chainsaw', '1': 'environment'}</td>\n",
       "      <td>{'lr': '0.001', 'optimizer': 'adam', 'batch_si...</td>\n",
       "      <td>{'loss': [5, 4, 3, 2, 1], 'val_loss': [5, 4, 3...</td>\n",
       "      <td>1</td>\n",
       "    </tr>\n",
       "  </tbody>\n",
       "</table>\n",
       "</div>"
      ],
      "text/plain": [
       "          date_created   model_path                present_dir  \\\n",
       "0  05/31/2020 19:06:41  ./ResNet50/  /home/ubuntu/logkit-learn   \n",
       "\n",
       "             reason architecture    input_shape  \\\n",
       "0  To test ResNet50     ResNet50  [224, 224, 3]   \n",
       "\n",
       "                                          input_info  \\\n",
       "0  {'nfft': 2048, 'nmels': 128, 'nperseg': 512, '...   \n",
       "\n",
       "                             output_info  \\\n",
       "0  {'0': 'chainsaw', '1': 'environment'}   \n",
       "\n",
       "                                       training_info  \\\n",
       "0  {'lr': '0.001', 'optimizer': 'adam', 'batch_si...   \n",
       "\n",
       "                                             history  version  \n",
       "0  {'loss': [5, 4, 3, 2, 1], 'val_loss': [5, 4, 3...        1  "
      ]
     },
     "execution_count": 9,
     "metadata": {},
     "output_type": "execute_result"
    }
   ],
   "source": [
    "logger = Logger(json_path, model_info)\n",
    "logger.db"
   ]
  },
  {
   "cell_type": "code",
   "execution_count": 10,
   "metadata": {},
   "outputs": [
    {
     "data": {
      "text/html": [
       "<div>\n",
       "<style scoped>\n",
       "    .dataframe tbody tr th:only-of-type {\n",
       "        vertical-align: middle;\n",
       "    }\n",
       "\n",
       "    .dataframe tbody tr th {\n",
       "        vertical-align: top;\n",
       "    }\n",
       "\n",
       "    .dataframe thead th {\n",
       "        text-align: right;\n",
       "    }\n",
       "</style>\n",
       "<table border=\"1\" class=\"dataframe\">\n",
       "  <thead>\n",
       "    <tr style=\"text-align: right;\">\n",
       "      <th></th>\n",
       "      <th>date_created</th>\n",
       "      <th>model_path</th>\n",
       "      <th>present_dir</th>\n",
       "      <th>reason</th>\n",
       "      <th>architecture</th>\n",
       "      <th>input_shape</th>\n",
       "      <th>input_info</th>\n",
       "      <th>output_info</th>\n",
       "      <th>training_info</th>\n",
       "      <th>history</th>\n",
       "      <th>version</th>\n",
       "    </tr>\n",
       "  </thead>\n",
       "  <tbody>\n",
       "    <tr>\n",
       "      <th>NaN</th>\n",
       "      <td>05/31/2020 19:06:42</td>\n",
       "      <td>./SVM/</td>\n",
       "      <td>/home/ubuntu/logkit-learn</td>\n",
       "      <td>To test SVM</td>\n",
       "      <td>SVM</td>\n",
       "      <td>(224, 224, 3)</td>\n",
       "      <td>{'nfft': 2048, 'nmels': 128, 'nperseg': 512, '...</td>\n",
       "      <td>{0: 'chainsaw', 1: 'environment'}</td>\n",
       "      <td>{'lr': '0.0001', 'optimizer': 'adam', 'batch_s...</td>\n",
       "      <td>{'loss': [5, 4, 3, 2, 1], 'val_loss': [5, 4, 3...</td>\n",
       "      <td>1</td>\n",
       "    </tr>\n",
       "  </tbody>\n",
       "</table>\n",
       "</div>"
      ],
      "text/plain": [
       "            date_created model_path                present_dir       reason  \\\n",
       "NaN  05/31/2020 19:06:42     ./SVM/  /home/ubuntu/logkit-learn  To test SVM   \n",
       "\n",
       "    architecture    input_shape  \\\n",
       "NaN          SVM  (224, 224, 3)   \n",
       "\n",
       "                                            input_info  \\\n",
       "NaN  {'nfft': 2048, 'nmels': 128, 'nperseg': 512, '...   \n",
       "\n",
       "                           output_info  \\\n",
       "NaN  {0: 'chainsaw', 1: 'environment'}   \n",
       "\n",
       "                                         training_info  \\\n",
       "NaN  {'lr': '0.0001', 'optimizer': 'adam', 'batch_s...   \n",
       "\n",
       "                                               history version  \n",
       "NaN  {'loss': [5, 4, 3, 2, 1], 'val_loss': [5, 4, 3...       1  "
      ]
     },
     "execution_count": 10,
     "metadata": {},
     "output_type": "execute_result"
    }
   ],
   "source": [
    "logger.model "
   ]
  },
  {
   "cell_type": "markdown",
   "metadata": {},
   "source": [
    "### Update the db with new model info"
   ]
  },
  {
   "cell_type": "code",
   "execution_count": 11,
   "metadata": {},
   "outputs": [],
   "source": [
    "logger.update_json()"
   ]
  },
  {
   "cell_type": "code",
   "execution_count": 12,
   "metadata": {},
   "outputs": [
    {
     "data": {
      "text/html": [
       "<div>\n",
       "<style scoped>\n",
       "    .dataframe tbody tr th:only-of-type {\n",
       "        vertical-align: middle;\n",
       "    }\n",
       "\n",
       "    .dataframe tbody tr th {\n",
       "        vertical-align: top;\n",
       "    }\n",
       "\n",
       "    .dataframe thead th {\n",
       "        text-align: right;\n",
       "    }\n",
       "</style>\n",
       "<table border=\"1\" class=\"dataframe\">\n",
       "  <thead>\n",
       "    <tr style=\"text-align: right;\">\n",
       "      <th></th>\n",
       "      <th>date_created</th>\n",
       "      <th>model_path</th>\n",
       "      <th>present_dir</th>\n",
       "      <th>reason</th>\n",
       "      <th>architecture</th>\n",
       "      <th>input_shape</th>\n",
       "      <th>input_info</th>\n",
       "      <th>output_info</th>\n",
       "      <th>training_info</th>\n",
       "      <th>history</th>\n",
       "      <th>version</th>\n",
       "    </tr>\n",
       "  </thead>\n",
       "  <tbody>\n",
       "    <tr>\n",
       "      <th>0</th>\n",
       "      <td>05/31/2020 19:06:41</td>\n",
       "      <td>./ResNet50/</td>\n",
       "      <td>/home/ubuntu/logkit-learn</td>\n",
       "      <td>To test ResNet50</td>\n",
       "      <td>ResNet50</td>\n",
       "      <td>[224, 224, 3]</td>\n",
       "      <td>{'nfft': 2048, 'nmels': 128, 'nperseg': 512, '...</td>\n",
       "      <td>{'0': 'chainsaw', '1': 'environment'}</td>\n",
       "      <td>{'lr': '0.001', 'optimizer': 'adam', 'batch_si...</td>\n",
       "      <td>{'loss': [5, 4, 3, 2, 1], 'val_loss': [5, 4, 3...</td>\n",
       "      <td>1</td>\n",
       "    </tr>\n",
       "    <tr>\n",
       "      <th>1</th>\n",
       "      <td>05/31/2020 19:06:42</td>\n",
       "      <td>./SVM/</td>\n",
       "      <td>/home/ubuntu/logkit-learn</td>\n",
       "      <td>To test SVM</td>\n",
       "      <td>SVM</td>\n",
       "      <td>(224, 224, 3)</td>\n",
       "      <td>{'nfft': 2048, 'nmels': 128, 'nperseg': 512, '...</td>\n",
       "      <td>{0: 'chainsaw', 1: 'environment'}</td>\n",
       "      <td>{'lr': '0.0001', 'optimizer': 'adam', 'batch_s...</td>\n",
       "      <td>{'loss': [5, 4, 3, 2, 1], 'val_loss': [5, 4, 3...</td>\n",
       "      <td>1</td>\n",
       "    </tr>\n",
       "  </tbody>\n",
       "</table>\n",
       "</div>"
      ],
      "text/plain": [
       "          date_created   model_path                present_dir  \\\n",
       "0  05/31/2020 19:06:41  ./ResNet50/  /home/ubuntu/logkit-learn   \n",
       "1  05/31/2020 19:06:42       ./SVM/  /home/ubuntu/logkit-learn   \n",
       "\n",
       "             reason architecture    input_shape  \\\n",
       "0  To test ResNet50     ResNet50  [224, 224, 3]   \n",
       "1       To test SVM          SVM  (224, 224, 3)   \n",
       "\n",
       "                                          input_info  \\\n",
       "0  {'nfft': 2048, 'nmels': 128, 'nperseg': 512, '...   \n",
       "1  {'nfft': 2048, 'nmels': 128, 'nperseg': 512, '...   \n",
       "\n",
       "                             output_info  \\\n",
       "0  {'0': 'chainsaw', '1': 'environment'}   \n",
       "1      {0: 'chainsaw', 1: 'environment'}   \n",
       "\n",
       "                                       training_info  \\\n",
       "0  {'lr': '0.001', 'optimizer': 'adam', 'batch_si...   \n",
       "1  {'lr': '0.0001', 'optimizer': 'adam', 'batch_s...   \n",
       "\n",
       "                                             history version  \n",
       "0  {'loss': [5, 4, 3, 2, 1], 'val_loss': [5, 4, 3...       1  \n",
       "1  {'loss': [5, 4, 3, 2, 1], 'val_loss': [5, 4, 3...       1  "
      ]
     },
     "execution_count": 12,
     "metadata": {},
     "output_type": "execute_result"
    }
   ],
   "source": [
    "logger.db"
   ]
  },
  {
   "cell_type": "code",
   "execution_count": 13,
   "metadata": {},
   "outputs": [
    {
     "data": {
      "text/html": [
       "<div>\n",
       "<style scoped>\n",
       "    .dataframe tbody tr th:only-of-type {\n",
       "        vertical-align: middle;\n",
       "    }\n",
       "\n",
       "    .dataframe tbody tr th {\n",
       "        vertical-align: top;\n",
       "    }\n",
       "\n",
       "    .dataframe thead th {\n",
       "        text-align: right;\n",
       "    }\n",
       "</style>\n",
       "<table border=\"1\" class=\"dataframe\">\n",
       "  <thead>\n",
       "    <tr style=\"text-align: right;\">\n",
       "      <th></th>\n",
       "      <th>date_created</th>\n",
       "      <th>model_path</th>\n",
       "      <th>present_dir</th>\n",
       "      <th>reason</th>\n",
       "      <th>architecture</th>\n",
       "      <th>input_shape</th>\n",
       "      <th>input_info</th>\n",
       "      <th>output_info</th>\n",
       "      <th>training_info</th>\n",
       "      <th>history</th>\n",
       "      <th>version</th>\n",
       "    </tr>\n",
       "  </thead>\n",
       "  <tbody>\n",
       "    <tr>\n",
       "      <th>1</th>\n",
       "      <td>05/31/2020 19:06:42</td>\n",
       "      <td>./SVM/</td>\n",
       "      <td>/home/ubuntu/logkit-learn</td>\n",
       "      <td>To test SVM</td>\n",
       "      <td>SVM</td>\n",
       "      <td>(224, 224, 3)</td>\n",
       "      <td>{'nfft': 2048, 'nmels': 128, 'nperseg': 512, '...</td>\n",
       "      <td>{0: 'chainsaw', 1: 'environment'}</td>\n",
       "      <td>{'lr': '0.0001', 'optimizer': 'adam', 'batch_s...</td>\n",
       "      <td>{'loss': [5, 4, 3, 2, 1], 'val_loss': [5, 4, 3...</td>\n",
       "      <td>1</td>\n",
       "    </tr>\n",
       "  </tbody>\n",
       "</table>\n",
       "</div>"
      ],
      "text/plain": [
       "          date_created model_path                present_dir       reason  \\\n",
       "1  05/31/2020 19:06:42     ./SVM/  /home/ubuntu/logkit-learn  To test SVM   \n",
       "\n",
       "  architecture    input_shape  \\\n",
       "1          SVM  (224, 224, 3)   \n",
       "\n",
       "                                          input_info  \\\n",
       "1  {'nfft': 2048, 'nmels': 128, 'nperseg': 512, '...   \n",
       "\n",
       "                         output_info  \\\n",
       "1  {0: 'chainsaw', 1: 'environment'}   \n",
       "\n",
       "                                       training_info  \\\n",
       "1  {'lr': '0.0001', 'optimizer': 'adam', 'batch_s...   \n",
       "\n",
       "                                             history version  \n",
       "1  {'loss': [5, 4, 3, 2, 1], 'val_loss': [5, 4, 3...       1  "
      ]
     },
     "execution_count": 13,
     "metadata": {},
     "output_type": "execute_result"
    }
   ],
   "source": [
    "logger.model"
   ]
  },
  {
   "cell_type": "markdown",
   "metadata": {},
   "source": [
    "### Change your mind about something"
   ]
  },
  {
   "cell_type": "code",
   "execution_count": 14,
   "metadata": {},
   "outputs": [],
   "source": [
    "logger.model.architecture = 'Random Forest'\n",
    "logger.model.reason = 'To test random forest'\n",
    "logger.model.model_path = './RF/'"
   ]
  },
  {
   "cell_type": "code",
   "execution_count": 15,
   "metadata": {},
   "outputs": [
    {
     "data": {
      "text/html": [
       "<div>\n",
       "<style scoped>\n",
       "    .dataframe tbody tr th:only-of-type {\n",
       "        vertical-align: middle;\n",
       "    }\n",
       "\n",
       "    .dataframe tbody tr th {\n",
       "        vertical-align: top;\n",
       "    }\n",
       "\n",
       "    .dataframe thead th {\n",
       "        text-align: right;\n",
       "    }\n",
       "</style>\n",
       "<table border=\"1\" class=\"dataframe\">\n",
       "  <thead>\n",
       "    <tr style=\"text-align: right;\">\n",
       "      <th></th>\n",
       "      <th>date_created</th>\n",
       "      <th>model_path</th>\n",
       "      <th>present_dir</th>\n",
       "      <th>reason</th>\n",
       "      <th>architecture</th>\n",
       "      <th>input_shape</th>\n",
       "      <th>input_info</th>\n",
       "      <th>output_info</th>\n",
       "      <th>training_info</th>\n",
       "      <th>history</th>\n",
       "      <th>version</th>\n",
       "    </tr>\n",
       "  </thead>\n",
       "  <tbody>\n",
       "    <tr>\n",
       "      <th>0</th>\n",
       "      <td>05/31/2020 19:06:41</td>\n",
       "      <td>./ResNet50/</td>\n",
       "      <td>/home/ubuntu/logkit-learn</td>\n",
       "      <td>To test ResNet50</td>\n",
       "      <td>ResNet50</td>\n",
       "      <td>[224, 224, 3]</td>\n",
       "      <td>{'nfft': 2048, 'nmels': 128, 'nperseg': 512, '...</td>\n",
       "      <td>{'0': 'chainsaw', '1': 'environment'}</td>\n",
       "      <td>{'lr': '0.001', 'optimizer': 'adam', 'batch_si...</td>\n",
       "      <td>{'loss': [5, 4, 3, 2, 1], 'val_loss': [5, 4, 3...</td>\n",
       "      <td>1</td>\n",
       "    </tr>\n",
       "    <tr>\n",
       "      <th>1</th>\n",
       "      <td>05/31/2020 19:06:42</td>\n",
       "      <td>./RF/</td>\n",
       "      <td>/home/ubuntu/logkit-learn</td>\n",
       "      <td>To test random forest</td>\n",
       "      <td>Random Forest</td>\n",
       "      <td>(224, 224, 3)</td>\n",
       "      <td>{'nfft': 2048, 'nmels': 128, 'nperseg': 512, '...</td>\n",
       "      <td>{0: 'chainsaw', 1: 'environment'}</td>\n",
       "      <td>{'lr': '0.0001', 'optimizer': 'adam', 'batch_s...</td>\n",
       "      <td>{'loss': [5, 4, 3, 2, 1], 'val_loss': [5, 4, 3...</td>\n",
       "      <td>1</td>\n",
       "    </tr>\n",
       "  </tbody>\n",
       "</table>\n",
       "</div>"
      ],
      "text/plain": [
       "          date_created   model_path                present_dir  \\\n",
       "0  05/31/2020 19:06:41  ./ResNet50/  /home/ubuntu/logkit-learn   \n",
       "1  05/31/2020 19:06:42        ./RF/  /home/ubuntu/logkit-learn   \n",
       "\n",
       "                  reason   architecture    input_shape  \\\n",
       "0       To test ResNet50       ResNet50  [224, 224, 3]   \n",
       "1  To test random forest  Random Forest  (224, 224, 3)   \n",
       "\n",
       "                                          input_info  \\\n",
       "0  {'nfft': 2048, 'nmels': 128, 'nperseg': 512, '...   \n",
       "1  {'nfft': 2048, 'nmels': 128, 'nperseg': 512, '...   \n",
       "\n",
       "                             output_info  \\\n",
       "0  {'0': 'chainsaw', '1': 'environment'}   \n",
       "1      {0: 'chainsaw', 1: 'environment'}   \n",
       "\n",
       "                                       training_info  \\\n",
       "0  {'lr': '0.001', 'optimizer': 'adam', 'batch_si...   \n",
       "1  {'lr': '0.0001', 'optimizer': 'adam', 'batch_s...   \n",
       "\n",
       "                                             history version  \n",
       "0  {'loss': [5, 4, 3, 2, 1], 'val_loss': [5, 4, 3...       1  \n",
       "1  {'loss': [5, 4, 3, 2, 1], 'val_loss': [5, 4, 3...       1  "
      ]
     },
     "execution_count": 15,
     "metadata": {},
     "output_type": "execute_result"
    }
   ],
   "source": [
    "logger.update_json()\n",
    "logger.db"
   ]
  },
  {
   "cell_type": "markdown",
   "metadata": {},
   "source": [
    "### Adjust the model slightly and create a new record"
   ]
  },
  {
   "cell_type": "code",
   "execution_count": 16,
   "metadata": {},
   "outputs": [],
   "source": [
    "logger.model.input_shape = [(100, 100, 1)]"
   ]
  },
  {
   "cell_type": "code",
   "execution_count": 17,
   "metadata": {},
   "outputs": [
    {
     "data": {
      "text/html": [
       "<div>\n",
       "<style scoped>\n",
       "    .dataframe tbody tr th:only-of-type {\n",
       "        vertical-align: middle;\n",
       "    }\n",
       "\n",
       "    .dataframe tbody tr th {\n",
       "        vertical-align: top;\n",
       "    }\n",
       "\n",
       "    .dataframe thead th {\n",
       "        text-align: right;\n",
       "    }\n",
       "</style>\n",
       "<table border=\"1\" class=\"dataframe\">\n",
       "  <thead>\n",
       "    <tr style=\"text-align: right;\">\n",
       "      <th></th>\n",
       "      <th>date_created</th>\n",
       "      <th>model_path</th>\n",
       "      <th>present_dir</th>\n",
       "      <th>reason</th>\n",
       "      <th>architecture</th>\n",
       "      <th>input_shape</th>\n",
       "      <th>input_info</th>\n",
       "      <th>output_info</th>\n",
       "      <th>training_info</th>\n",
       "      <th>history</th>\n",
       "      <th>version</th>\n",
       "    </tr>\n",
       "  </thead>\n",
       "  <tbody>\n",
       "    <tr>\n",
       "      <th>0</th>\n",
       "      <td>05/31/2020 19:06:41</td>\n",
       "      <td>./ResNet50/</td>\n",
       "      <td>/home/ubuntu/logkit-learn</td>\n",
       "      <td>To test ResNet50</td>\n",
       "      <td>ResNet50</td>\n",
       "      <td>[224, 224, 3]</td>\n",
       "      <td>{'nfft': 2048, 'nmels': 128, 'nperseg': 512, '...</td>\n",
       "      <td>{'0': 'chainsaw', '1': 'environment'}</td>\n",
       "      <td>{'lr': '0.001', 'optimizer': 'adam', 'batch_si...</td>\n",
       "      <td>{'loss': [5, 4, 3, 2, 1], 'val_loss': [5, 4, 3...</td>\n",
       "      <td>1</td>\n",
       "    </tr>\n",
       "    <tr>\n",
       "      <th>1</th>\n",
       "      <td>05/31/2020 19:06:42</td>\n",
       "      <td>./RF/</td>\n",
       "      <td>/home/ubuntu/logkit-learn</td>\n",
       "      <td>To test random forest</td>\n",
       "      <td>Random Forest</td>\n",
       "      <td>(224, 224, 3)</td>\n",
       "      <td>{'nfft': 2048, 'nmels': 128, 'nperseg': 512, '...</td>\n",
       "      <td>{0: 'chainsaw', 1: 'environment'}</td>\n",
       "      <td>{'lr': '0.0001', 'optimizer': 'adam', 'batch_s...</td>\n",
       "      <td>{'loss': [5, 4, 3, 2, 1], 'val_loss': [5, 4, 3...</td>\n",
       "      <td>1</td>\n",
       "    </tr>\n",
       "    <tr>\n",
       "      <th>2</th>\n",
       "      <td>05/31/2020 19:06:42</td>\n",
       "      <td>./RF/</td>\n",
       "      <td>/home/ubuntu/logkit-learn</td>\n",
       "      <td>To test random forest</td>\n",
       "      <td>Random Forest</td>\n",
       "      <td>(100, 100, 1)</td>\n",
       "      <td>{'nfft': 2048, 'nmels': 128, 'nperseg': 512, '...</td>\n",
       "      <td>{0: 'chainsaw', 1: 'environment'}</td>\n",
       "      <td>{'lr': '0.0001', 'optimizer': 'adam', 'batch_s...</td>\n",
       "      <td>{'loss': [5, 4, 3, 2, 1], 'val_loss': [5, 4, 3...</td>\n",
       "      <td>1</td>\n",
       "    </tr>\n",
       "  </tbody>\n",
       "</table>\n",
       "</div>"
      ],
      "text/plain": [
       "          date_created   model_path                present_dir  \\\n",
       "0  05/31/2020 19:06:41  ./ResNet50/  /home/ubuntu/logkit-learn   \n",
       "1  05/31/2020 19:06:42        ./RF/  /home/ubuntu/logkit-learn   \n",
       "2  05/31/2020 19:06:42        ./RF/  /home/ubuntu/logkit-learn   \n",
       "\n",
       "                  reason   architecture    input_shape  \\\n",
       "0       To test ResNet50       ResNet50  [224, 224, 3]   \n",
       "1  To test random forest  Random Forest  (224, 224, 3)   \n",
       "2  To test random forest  Random Forest  (100, 100, 1)   \n",
       "\n",
       "                                          input_info  \\\n",
       "0  {'nfft': 2048, 'nmels': 128, 'nperseg': 512, '...   \n",
       "1  {'nfft': 2048, 'nmels': 128, 'nperseg': 512, '...   \n",
       "2  {'nfft': 2048, 'nmels': 128, 'nperseg': 512, '...   \n",
       "\n",
       "                             output_info  \\\n",
       "0  {'0': 'chainsaw', '1': 'environment'}   \n",
       "1      {0: 'chainsaw', 1: 'environment'}   \n",
       "2      {0: 'chainsaw', 1: 'environment'}   \n",
       "\n",
       "                                       training_info  \\\n",
       "0  {'lr': '0.001', 'optimizer': 'adam', 'batch_si...   \n",
       "1  {'lr': '0.0001', 'optimizer': 'adam', 'batch_s...   \n",
       "2  {'lr': '0.0001', 'optimizer': 'adam', 'batch_s...   \n",
       "\n",
       "                                             history version  \n",
       "0  {'loss': [5, 4, 3, 2, 1], 'val_loss': [5, 4, 3...       1  \n",
       "1  {'loss': [5, 4, 3, 2, 1], 'val_loss': [5, 4, 3...       1  \n",
       "2  {'loss': [5, 4, 3, 2, 1], 'val_loss': [5, 4, 3...       1  "
      ]
     },
     "execution_count": 17,
     "metadata": {},
     "output_type": "execute_result"
    }
   ],
   "source": [
    "logger.update_json(append=True)\n",
    "logger.db"
   ]
  },
  {
   "cell_type": "markdown",
   "metadata": {},
   "source": [
    "### Load info from old record into .model"
   ]
  },
  {
   "cell_type": "code",
   "execution_count": 18,
   "metadata": {},
   "outputs": [
    {
     "data": {
      "text/html": [
       "<div>\n",
       "<style scoped>\n",
       "    .dataframe tbody tr th:only-of-type {\n",
       "        vertical-align: middle;\n",
       "    }\n",
       "\n",
       "    .dataframe tbody tr th {\n",
       "        vertical-align: top;\n",
       "    }\n",
       "\n",
       "    .dataframe thead th {\n",
       "        text-align: right;\n",
       "    }\n",
       "</style>\n",
       "<table border=\"1\" class=\"dataframe\">\n",
       "  <thead>\n",
       "    <tr style=\"text-align: right;\">\n",
       "      <th></th>\n",
       "      <th>date_created</th>\n",
       "      <th>model_path</th>\n",
       "      <th>present_dir</th>\n",
       "      <th>reason</th>\n",
       "      <th>architecture</th>\n",
       "      <th>input_shape</th>\n",
       "      <th>input_info</th>\n",
       "      <th>output_info</th>\n",
       "      <th>training_info</th>\n",
       "      <th>history</th>\n",
       "      <th>version</th>\n",
       "    </tr>\n",
       "  </thead>\n",
       "  <tbody>\n",
       "    <tr>\n",
       "      <th>1</th>\n",
       "      <td>05/31/2020 19:06:42</td>\n",
       "      <td>./RF/</td>\n",
       "      <td>/home/ubuntu/logkit-learn</td>\n",
       "      <td>To test random forest</td>\n",
       "      <td>Random Forest</td>\n",
       "      <td>(224, 224, 3)</td>\n",
       "      <td>{'nfft': 2048, 'nmels': 128, 'nperseg': 512, '...</td>\n",
       "      <td>{0: 'chainsaw', 1: 'environment'}</td>\n",
       "      <td>{'lr': '0.0001', 'optimizer': 'adam', 'batch_s...</td>\n",
       "      <td>{'loss': [5, 4, 3, 2, 1], 'val_loss': [5, 4, 3...</td>\n",
       "      <td>1</td>\n",
       "    </tr>\n",
       "  </tbody>\n",
       "</table>\n",
       "</div>"
      ],
      "text/plain": [
       "          date_created model_path                present_dir  \\\n",
       "1  05/31/2020 19:06:42      ./RF/  /home/ubuntu/logkit-learn   \n",
       "\n",
       "                  reason   architecture    input_shape  \\\n",
       "1  To test random forest  Random Forest  (224, 224, 3)   \n",
       "\n",
       "                                          input_info  \\\n",
       "1  {'nfft': 2048, 'nmels': 128, 'nperseg': 512, '...   \n",
       "\n",
       "                         output_info  \\\n",
       "1  {0: 'chainsaw', 1: 'environment'}   \n",
       "\n",
       "                                       training_info  \\\n",
       "1  {'lr': '0.0001', 'optimizer': 'adam', 'batch_s...   \n",
       "\n",
       "                                             history version  \n",
       "1  {'loss': [5, 4, 3, 2, 1], 'val_loss': [5, 4, 3...       1  "
      ]
     },
     "execution_count": 18,
     "metadata": {},
     "output_type": "execute_result"
    }
   ],
   "source": [
    "logger.load_model(1) # provide index of desired record, or model_info dictionary to re-define current model\n",
    "logger.model"
   ]
  },
  {
   "cell_type": "markdown",
   "metadata": {},
   "source": [
    "### Delete record of the current model"
   ]
  },
  {
   "cell_type": "code",
   "execution_count": 19,
   "metadata": {},
   "outputs": [
    {
     "data": {
      "text/html": [
       "<div>\n",
       "<style scoped>\n",
       "    .dataframe tbody tr th:only-of-type {\n",
       "        vertical-align: middle;\n",
       "    }\n",
       "\n",
       "    .dataframe tbody tr th {\n",
       "        vertical-align: top;\n",
       "    }\n",
       "\n",
       "    .dataframe thead th {\n",
       "        text-align: right;\n",
       "    }\n",
       "</style>\n",
       "<table border=\"1\" class=\"dataframe\">\n",
       "  <thead>\n",
       "    <tr style=\"text-align: right;\">\n",
       "      <th></th>\n",
       "      <th>date_created</th>\n",
       "      <th>model_path</th>\n",
       "      <th>present_dir</th>\n",
       "      <th>reason</th>\n",
       "      <th>architecture</th>\n",
       "      <th>input_shape</th>\n",
       "      <th>input_info</th>\n",
       "      <th>output_info</th>\n",
       "      <th>training_info</th>\n",
       "      <th>history</th>\n",
       "      <th>version</th>\n",
       "    </tr>\n",
       "  </thead>\n",
       "  <tbody>\n",
       "    <tr>\n",
       "      <th>0</th>\n",
       "      <td>05/31/2020 19:06:41</td>\n",
       "      <td>./ResNet50/</td>\n",
       "      <td>/home/ubuntu/logkit-learn</td>\n",
       "      <td>To test ResNet50</td>\n",
       "      <td>ResNet50</td>\n",
       "      <td>[224, 224, 3]</td>\n",
       "      <td>{'nfft': 2048, 'nmels': 128, 'nperseg': 512, '...</td>\n",
       "      <td>{'0': 'chainsaw', '1': 'environment'}</td>\n",
       "      <td>{'lr': '0.001', 'optimizer': 'adam', 'batch_si...</td>\n",
       "      <td>{'loss': [5, 4, 3, 2, 1], 'val_loss': [5, 4, 3...</td>\n",
       "      <td>1</td>\n",
       "    </tr>\n",
       "    <tr>\n",
       "      <th>2</th>\n",
       "      <td>05/31/2020 19:06:42</td>\n",
       "      <td>./RF/</td>\n",
       "      <td>/home/ubuntu/logkit-learn</td>\n",
       "      <td>To test random forest</td>\n",
       "      <td>Random Forest</td>\n",
       "      <td>(100, 100, 1)</td>\n",
       "      <td>{'nfft': 2048, 'nmels': 128, 'nperseg': 512, '...</td>\n",
       "      <td>{0: 'chainsaw', 1: 'environment'}</td>\n",
       "      <td>{'lr': '0.0001', 'optimizer': 'adam', 'batch_s...</td>\n",
       "      <td>{'loss': [5, 4, 3, 2, 1], 'val_loss': [5, 4, 3...</td>\n",
       "      <td>1</td>\n",
       "    </tr>\n",
       "  </tbody>\n",
       "</table>\n",
       "</div>"
      ],
      "text/plain": [
       "          date_created   model_path                present_dir  \\\n",
       "0  05/31/2020 19:06:41  ./ResNet50/  /home/ubuntu/logkit-learn   \n",
       "2  05/31/2020 19:06:42        ./RF/  /home/ubuntu/logkit-learn   \n",
       "\n",
       "                  reason   architecture    input_shape  \\\n",
       "0       To test ResNet50       ResNet50  [224, 224, 3]   \n",
       "2  To test random forest  Random Forest  (100, 100, 1)   \n",
       "\n",
       "                                          input_info  \\\n",
       "0  {'nfft': 2048, 'nmels': 128, 'nperseg': 512, '...   \n",
       "2  {'nfft': 2048, 'nmels': 128, 'nperseg': 512, '...   \n",
       "\n",
       "                             output_info  \\\n",
       "0  {'0': 'chainsaw', '1': 'environment'}   \n",
       "2      {0: 'chainsaw', 1: 'environment'}   \n",
       "\n",
       "                                       training_info  \\\n",
       "0  {'lr': '0.001', 'optimizer': 'adam', 'batch_si...   \n",
       "2  {'lr': '0.0001', 'optimizer': 'adam', 'batch_s...   \n",
       "\n",
       "                                             history version  \n",
       "0  {'loss': [5, 4, 3, 2, 1], 'val_loss': [5, 4, 3...       1  \n",
       "2  {'loss': [5, 4, 3, 2, 1], 'val_loss': [5, 4, 3...       1  "
      ]
     },
     "execution_count": 19,
     "metadata": {},
     "output_type": "execute_result"
    }
   ],
   "source": [
    "logger.delete_model()\n",
    "logger.db"
   ]
  },
  {
   "cell_type": "markdown",
   "metadata": {},
   "source": [
    "### Delete an old model"
   ]
  },
  {
   "cell_type": "code",
   "execution_count": 20,
   "metadata": {},
   "outputs": [
    {
     "data": {
      "text/html": [
       "<div>\n",
       "<style scoped>\n",
       "    .dataframe tbody tr th:only-of-type {\n",
       "        vertical-align: middle;\n",
       "    }\n",
       "\n",
       "    .dataframe tbody tr th {\n",
       "        vertical-align: top;\n",
       "    }\n",
       "\n",
       "    .dataframe thead th {\n",
       "        text-align: right;\n",
       "    }\n",
       "</style>\n",
       "<table border=\"1\" class=\"dataframe\">\n",
       "  <thead>\n",
       "    <tr style=\"text-align: right;\">\n",
       "      <th></th>\n",
       "      <th>date_created</th>\n",
       "      <th>model_path</th>\n",
       "      <th>present_dir</th>\n",
       "      <th>reason</th>\n",
       "      <th>architecture</th>\n",
       "      <th>input_shape</th>\n",
       "      <th>input_info</th>\n",
       "      <th>output_info</th>\n",
       "      <th>training_info</th>\n",
       "      <th>history</th>\n",
       "      <th>version</th>\n",
       "    </tr>\n",
       "  </thead>\n",
       "  <tbody>\n",
       "    <tr>\n",
       "      <th>2</th>\n",
       "      <td>05/31/2020 19:06:42</td>\n",
       "      <td>./RF/</td>\n",
       "      <td>/home/ubuntu/logkit-learn</td>\n",
       "      <td>To test random forest</td>\n",
       "      <td>Random Forest</td>\n",
       "      <td>(100, 100, 1)</td>\n",
       "      <td>{'nfft': 2048, 'nmels': 128, 'nperseg': 512, '...</td>\n",
       "      <td>{0: 'chainsaw', 1: 'environment'}</td>\n",
       "      <td>{'lr': '0.0001', 'optimizer': 'adam', 'batch_s...</td>\n",
       "      <td>{'loss': [5, 4, 3, 2, 1], 'val_loss': [5, 4, 3...</td>\n",
       "      <td>1</td>\n",
       "    </tr>\n",
       "  </tbody>\n",
       "</table>\n",
       "</div>"
      ],
      "text/plain": [
       "          date_created model_path                present_dir  \\\n",
       "2  05/31/2020 19:06:42      ./RF/  /home/ubuntu/logkit-learn   \n",
       "\n",
       "                  reason   architecture    input_shape  \\\n",
       "2  To test random forest  Random Forest  (100, 100, 1)   \n",
       "\n",
       "                                          input_info  \\\n",
       "2  {'nfft': 2048, 'nmels': 128, 'nperseg': 512, '...   \n",
       "\n",
       "                         output_info  \\\n",
       "2  {0: 'chainsaw', 1: 'environment'}   \n",
       "\n",
       "                                       training_info  \\\n",
       "2  {'lr': '0.0001', 'optimizer': 'adam', 'batch_s...   \n",
       "\n",
       "                                             history version  \n",
       "2  {'loss': [5, 4, 3, 2, 1], 'val_loss': [5, 4, 3...       1  "
      ]
     },
     "execution_count": 20,
     "metadata": {},
     "output_type": "execute_result"
    }
   ],
   "source": [
    "logger.delete_model(index=0)\n",
    "logger.db"
   ]
  }
 ],
 "metadata": {
  "kernelspec": {
   "display_name": "Environment (conda_amazonei_mxnet_p36)",
   "language": "python",
   "name": "conda_amazonei_mxnet_p36"
  },
  "language_info": {
   "codemirror_mode": {
    "name": "ipython",
    "version": 3
   },
   "file_extension": ".py",
   "mimetype": "text/x-python",
   "name": "python",
   "nbconvert_exporter": "python",
   "pygments_lexer": "ipython3",
   "version": "3.6.10"
  }
 },
 "nbformat": 4,
 "nbformat_minor": 2
}
